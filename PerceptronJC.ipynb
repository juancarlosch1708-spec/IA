{
  "cells": [
    {
      "cell_type": "markdown",
      "metadata": {
        "id": "view-in-github",
        "colab_type": "text"
      },
      "source": [
        "<a href=\"https://colab.research.google.com/github/juancarlosch1708-spec/IA/blob/main/PerceptronJC.ipynb\" target=\"_parent\"><img src=\"https://colab.research.google.com/assets/colab-badge.svg\" alt=\"Open In Colab\"/></a>"
      ]
    },
    {
      "cell_type": "code",
      "execution_count": 1,
      "id": "ecb28738-68f4-4de2-8afa-96cc50062926",
      "metadata": {
        "id": "ecb28738-68f4-4de2-8afa-96cc50062926"
      },
      "outputs": [],
      "source": [
        "class Preceptron:\n",
        "    def __init__(self,pesos,sesgo,tasa_aprendizaje):\n",
        "        self.pesos=pesos\n",
        "        self.sesgo=sesgo\n",
        "        self.tasa_aprendizaje=tasa_aprendizaje\n",
        "\n",
        "    def funcion_activacion(self,Z):\n",
        "        if Z>=0:\n",
        "            return 1\n",
        "        else:\n",
        "            return 0\n",
        "\n",
        "    def entrenamiento(self,X,Y,epocas):\n",
        "       for epoca in range (epocas):\n",
        "           for dato in X:\n",
        "               x1,x2=dato[0],dato[1]\n",
        "               w1=self.pesos[0]\n",
        "               w2=self.pesos[1]\n",
        "               b=self.sesgo\n",
        "               Z=x1*w1+x2*w2+b\n",
        "               Y_pred=self.funcion_activacion(Z)\n",
        "               i=X.index(dato)\n",
        "               Y_real=Y[i]\n",
        "               self.pesos[0]=w1+self.tasa_aprendizaje*(Y_real-Y_pred)*x1\n",
        "               self.pesos[1]=w2+self.tasa_aprendizaje*(Y_real-Y_pred)*x2\n",
        "               self.sesgo=b+self.tasa_aprendizaje*(Y_real-Y_pred)\n",
        "               print(f'Dato{dato},Prediccion{Y_pred},Pesos{self.pesos},Sesgo{self.sesgo},')\n",
        "       print(f'Fin de la epoca{epocas}')"
      ]
    },
    {
      "cell_type": "code",
      "execution_count": 2,
      "id": "df725a47-b941-4c86-b9fb-850e91c0eb39",
      "metadata": {
        "id": "df725a47-b941-4c86-b9fb-850e91c0eb39"
      },
      "outputs": [],
      "source": [
        "X=[1,1],[1,0],[0,1],[0,0]\n",
        "Y=[1,0,0,0]\n",
        "pesos=[2,3]\n",
        "sesgo=4\n",
        "tasa_aprendizaje=0.1"
      ]
    },
    {
      "cell_type": "code",
      "execution_count": 3,
      "id": "27c4e02f-dbeb-43aa-93aa-aa39e0d6ea29",
      "metadata": {
        "id": "27c4e02f-dbeb-43aa-93aa-aa39e0d6ea29"
      },
      "outputs": [],
      "source": [
        "p=Preceptron(pesos,sesgo,tasa_aprendizaje)"
      ]
    },
    {
      "cell_type": "code",
      "execution_count": 4,
      "id": "eff97a59-7cd3-4ae0-9d59-c4475bd2ca9a",
      "metadata": {
        "colab": {
          "base_uri": "https://localhost:8080/"
        },
        "id": "eff97a59-7cd3-4ae0-9d59-c4475bd2ca9a",
        "outputId": "72a6be7c-9560-42a6-d7ed-11c5569ae154"
      },
      "outputs": [
        {
          "output_type": "stream",
          "name": "stdout",
          "text": [
            "Dato[1, 1],Prediccion1,Pesos[2.0, 3.0],Sesgo4.0,\n",
            "Dato[1, 0],Prediccion1,Pesos[1.9, 3.0],Sesgo3.9,\n",
            "Dato[0, 1],Prediccion1,Pesos[1.9, 2.9],Sesgo3.8,\n",
            "Dato[0, 0],Prediccion1,Pesos[1.9, 2.9],Sesgo3.6999999999999997,\n",
            "Dato[1, 1],Prediccion1,Pesos[1.9, 2.9],Sesgo3.6999999999999997,\n",
            "Dato[1, 0],Prediccion1,Pesos[1.7999999999999998, 2.9],Sesgo3.5999999999999996,\n",
            "Dato[0, 1],Prediccion1,Pesos[1.7999999999999998, 2.8],Sesgo3.4999999999999996,\n",
            "Dato[0, 0],Prediccion1,Pesos[1.7999999999999998, 2.8],Sesgo3.3999999999999995,\n",
            "Dato[1, 1],Prediccion1,Pesos[1.7999999999999998, 2.8],Sesgo3.3999999999999995,\n",
            "Dato[1, 0],Prediccion1,Pesos[1.6999999999999997, 2.8],Sesgo3.2999999999999994,\n",
            "Dato[0, 1],Prediccion1,Pesos[1.6999999999999997, 2.6999999999999997],Sesgo3.1999999999999993,\n",
            "Dato[0, 0],Prediccion1,Pesos[1.6999999999999997, 2.6999999999999997],Sesgo3.099999999999999,\n",
            "Dato[1, 1],Prediccion1,Pesos[1.6999999999999997, 2.6999999999999997],Sesgo3.099999999999999,\n",
            "Dato[1, 0],Prediccion1,Pesos[1.5999999999999996, 2.6999999999999997],Sesgo2.999999999999999,\n",
            "Dato[0, 1],Prediccion1,Pesos[1.5999999999999996, 2.5999999999999996],Sesgo2.899999999999999,\n",
            "Dato[0, 0],Prediccion1,Pesos[1.5999999999999996, 2.5999999999999996],Sesgo2.799999999999999,\n",
            "Dato[1, 1],Prediccion1,Pesos[1.5999999999999996, 2.5999999999999996],Sesgo2.799999999999999,\n",
            "Dato[1, 0],Prediccion1,Pesos[1.4999999999999996, 2.5999999999999996],Sesgo2.699999999999999,\n",
            "Dato[0, 1],Prediccion1,Pesos[1.4999999999999996, 2.4999999999999996],Sesgo2.5999999999999988,\n",
            "Dato[0, 0],Prediccion1,Pesos[1.4999999999999996, 2.4999999999999996],Sesgo2.4999999999999987,\n",
            "Dato[1, 1],Prediccion1,Pesos[1.4999999999999996, 2.4999999999999996],Sesgo2.4999999999999987,\n",
            "Dato[1, 0],Prediccion1,Pesos[1.3999999999999995, 2.4999999999999996],Sesgo2.3999999999999986,\n",
            "Dato[0, 1],Prediccion1,Pesos[1.3999999999999995, 2.3999999999999995],Sesgo2.2999999999999985,\n",
            "Dato[0, 0],Prediccion1,Pesos[1.3999999999999995, 2.3999999999999995],Sesgo2.1999999999999984,\n",
            "Dato[1, 1],Prediccion1,Pesos[1.3999999999999995, 2.3999999999999995],Sesgo2.1999999999999984,\n",
            "Dato[1, 0],Prediccion1,Pesos[1.2999999999999994, 2.3999999999999995],Sesgo2.0999999999999983,\n",
            "Dato[0, 1],Prediccion1,Pesos[1.2999999999999994, 2.2999999999999994],Sesgo1.9999999999999982,\n",
            "Dato[0, 0],Prediccion1,Pesos[1.2999999999999994, 2.2999999999999994],Sesgo1.8999999999999981,\n",
            "Dato[1, 1],Prediccion1,Pesos[1.2999999999999994, 2.2999999999999994],Sesgo1.8999999999999981,\n",
            "Dato[1, 0],Prediccion1,Pesos[1.1999999999999993, 2.2999999999999994],Sesgo1.799999999999998,\n",
            "Dato[0, 1],Prediccion1,Pesos[1.1999999999999993, 2.1999999999999993],Sesgo1.699999999999998,\n",
            "Dato[0, 0],Prediccion1,Pesos[1.1999999999999993, 2.1999999999999993],Sesgo1.5999999999999979,\n",
            "Dato[1, 1],Prediccion1,Pesos[1.1999999999999993, 2.1999999999999993],Sesgo1.5999999999999979,\n",
            "Dato[1, 0],Prediccion1,Pesos[1.0999999999999992, 2.1999999999999993],Sesgo1.4999999999999978,\n",
            "Dato[0, 1],Prediccion1,Pesos[1.0999999999999992, 2.099999999999999],Sesgo1.3999999999999977,\n",
            "Dato[0, 0],Prediccion1,Pesos[1.0999999999999992, 2.099999999999999],Sesgo1.2999999999999976,\n",
            "Dato[1, 1],Prediccion1,Pesos[1.0999999999999992, 2.099999999999999],Sesgo1.2999999999999976,\n",
            "Dato[1, 0],Prediccion1,Pesos[0.9999999999999992, 2.099999999999999],Sesgo1.1999999999999975,\n",
            "Dato[0, 1],Prediccion1,Pesos[0.9999999999999992, 1.9999999999999991],Sesgo1.0999999999999974,\n",
            "Dato[0, 0],Prediccion1,Pesos[0.9999999999999992, 1.9999999999999991],Sesgo0.9999999999999974,\n",
            "Dato[1, 1],Prediccion1,Pesos[0.9999999999999992, 1.9999999999999991],Sesgo0.9999999999999974,\n",
            "Dato[1, 0],Prediccion1,Pesos[0.8999999999999992, 1.9999999999999991],Sesgo0.8999999999999975,\n",
            "Dato[0, 1],Prediccion1,Pesos[0.8999999999999992, 1.899999999999999],Sesgo0.7999999999999975,\n",
            "Dato[0, 0],Prediccion1,Pesos[0.8999999999999992, 1.899999999999999],Sesgo0.6999999999999975,\n",
            "Dato[1, 1],Prediccion1,Pesos[0.8999999999999992, 1.899999999999999],Sesgo0.6999999999999975,\n",
            "Dato[1, 0],Prediccion1,Pesos[0.7999999999999993, 1.899999999999999],Sesgo0.5999999999999975,\n",
            "Dato[0, 1],Prediccion1,Pesos[0.7999999999999993, 1.799999999999999],Sesgo0.49999999999999756,\n",
            "Dato[0, 0],Prediccion1,Pesos[0.7999999999999993, 1.799999999999999],Sesgo0.3999999999999976,\n",
            "Dato[1, 1],Prediccion1,Pesos[0.7999999999999993, 1.799999999999999],Sesgo0.3999999999999976,\n",
            "Dato[1, 0],Prediccion1,Pesos[0.6999999999999993, 1.799999999999999],Sesgo0.2999999999999976,\n",
            "Dato[0, 1],Prediccion1,Pesos[0.6999999999999993, 1.6999999999999988],Sesgo0.1999999999999976,\n",
            "Dato[0, 0],Prediccion1,Pesos[0.6999999999999993, 1.6999999999999988],Sesgo0.09999999999999759,\n",
            "Dato[1, 1],Prediccion1,Pesos[0.6999999999999993, 1.6999999999999988],Sesgo0.09999999999999759,\n",
            "Dato[1, 0],Prediccion1,Pesos[0.5999999999999993, 1.6999999999999988],Sesgo-2.4147350785597155e-15,\n",
            "Dato[0, 1],Prediccion1,Pesos[0.5999999999999993, 1.5999999999999988],Sesgo-0.10000000000000242,\n",
            "Dato[0, 0],Prediccion0,Pesos[0.5999999999999993, 1.5999999999999988],Sesgo-0.10000000000000242,\n",
            "Dato[1, 1],Prediccion1,Pesos[0.5999999999999993, 1.5999999999999988],Sesgo-0.10000000000000242,\n",
            "Dato[1, 0],Prediccion1,Pesos[0.49999999999999933, 1.5999999999999988],Sesgo-0.20000000000000243,\n",
            "Dato[0, 1],Prediccion1,Pesos[0.49999999999999933, 1.4999999999999987],Sesgo-0.30000000000000243,\n",
            "Dato[0, 0],Prediccion0,Pesos[0.49999999999999933, 1.4999999999999987],Sesgo-0.30000000000000243,\n",
            "Dato[1, 1],Prediccion1,Pesos[0.49999999999999933, 1.4999999999999987],Sesgo-0.30000000000000243,\n",
            "Dato[1, 0],Prediccion1,Pesos[0.39999999999999936, 1.4999999999999987],Sesgo-0.40000000000000246,\n",
            "Dato[0, 1],Prediccion1,Pesos[0.39999999999999936, 1.3999999999999986],Sesgo-0.5000000000000024,\n",
            "Dato[0, 0],Prediccion0,Pesos[0.39999999999999936, 1.3999999999999986],Sesgo-0.5000000000000024,\n",
            "Dato[1, 1],Prediccion1,Pesos[0.39999999999999936, 1.3999999999999986],Sesgo-0.5000000000000024,\n",
            "Dato[1, 0],Prediccion0,Pesos[0.39999999999999936, 1.3999999999999986],Sesgo-0.5000000000000024,\n",
            "Dato[0, 1],Prediccion1,Pesos[0.39999999999999936, 1.2999999999999985],Sesgo-0.6000000000000024,\n",
            "Dato[0, 0],Prediccion0,Pesos[0.39999999999999936, 1.2999999999999985],Sesgo-0.6000000000000024,\n",
            "Dato[1, 1],Prediccion1,Pesos[0.39999999999999936, 1.2999999999999985],Sesgo-0.6000000000000024,\n",
            "Dato[1, 0],Prediccion0,Pesos[0.39999999999999936, 1.2999999999999985],Sesgo-0.6000000000000024,\n",
            "Dato[0, 1],Prediccion1,Pesos[0.39999999999999936, 1.1999999999999984],Sesgo-0.7000000000000024,\n",
            "Dato[0, 0],Prediccion0,Pesos[0.39999999999999936, 1.1999999999999984],Sesgo-0.7000000000000024,\n",
            "Dato[1, 1],Prediccion1,Pesos[0.39999999999999936, 1.1999999999999984],Sesgo-0.7000000000000024,\n",
            "Dato[1, 0],Prediccion0,Pesos[0.39999999999999936, 1.1999999999999984],Sesgo-0.7000000000000024,\n",
            "Dato[0, 1],Prediccion1,Pesos[0.39999999999999936, 1.0999999999999983],Sesgo-0.8000000000000024,\n",
            "Dato[0, 0],Prediccion0,Pesos[0.39999999999999936, 1.0999999999999983],Sesgo-0.8000000000000024,\n",
            "Dato[1, 1],Prediccion1,Pesos[0.39999999999999936, 1.0999999999999983],Sesgo-0.8000000000000024,\n",
            "Dato[1, 0],Prediccion0,Pesos[0.39999999999999936, 1.0999999999999983],Sesgo-0.8000000000000024,\n",
            "Dato[0, 1],Prediccion1,Pesos[0.39999999999999936, 0.9999999999999983],Sesgo-0.9000000000000024,\n",
            "Dato[0, 0],Prediccion0,Pesos[0.39999999999999936, 0.9999999999999983],Sesgo-0.9000000000000024,\n",
            "Fin de la epoca20\n"
          ]
        }
      ],
      "source": [
        "p.entrenamiento(X,Y,20)"
      ]
    },
    {
      "cell_type": "code",
      "execution_count": null,
      "id": "60da6772-504e-4dee-963e-2ea3dd61cc06",
      "metadata": {
        "id": "60da6772-504e-4dee-963e-2ea3dd61cc06"
      },
      "outputs": [],
      "source": []
    }
  ],
  "metadata": {
    "kernelspec": {
      "display_name": "Python [conda env:base] *",
      "language": "python",
      "name": "conda-base-py"
    },
    "language_info": {
      "codemirror_mode": {
        "name": "ipython",
        "version": 3
      },
      "file_extension": ".py",
      "mimetype": "text/x-python",
      "name": "python",
      "nbconvert_exporter": "python",
      "pygments_lexer": "ipython3",
      "version": "3.12.7"
    },
    "colab": {
      "provenance": [],
      "include_colab_link": true
    }
  },
  "nbformat": 4,
  "nbformat_minor": 5
}