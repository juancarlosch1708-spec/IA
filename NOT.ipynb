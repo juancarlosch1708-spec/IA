{
  "nbformat": 4,
  "nbformat_minor": 0,
  "metadata": {
    "colab": {
      "provenance": [],
      "authorship_tag": "ABX9TyN6qc2CeVfMAz1xfW1djURp",
      "include_colab_link": true
    },
    "kernelspec": {
      "name": "python3",
      "display_name": "Python 3"
    },
    "language_info": {
      "name": "python"
    }
  },
  "cells": [
    {
      "cell_type": "markdown",
      "metadata": {
        "id": "view-in-github",
        "colab_type": "text"
      },
      "source": [
        "<a href=\"https://colab.research.google.com/github/juancarlosch1708-spec/IA/blob/main/NOT.ipynb\" target=\"_parent\"><img src=\"https://colab.research.google.com/assets/colab-badge.svg\" alt=\"Open In Colab\"/></a>"
      ]
    },
    {
      "cell_type": "code",
      "execution_count": 1,
      "metadata": {
        "id": "WHAGJ-MI3rz-"
      },
      "outputs": [],
      "source": [
        "import numpy as np\n",
        "X = np.array([\n",
        "    [0],\n",
        "    [1]\n",
        "])\n",
        "Y = np.array([1, 0])\n",
        "W = [-1]\n",
        "umbral = 0"
      ]
    },
    {
      "cell_type": "markdown",
      "source": [
        "En estas lineas de codigo damos el # de entradas para perceptron (X), asi como tambien declaramos cuales son nuestras salidas (Y), seguido de esto agregamos los pesos para las entradas (W) y finalmente sacamos el umbral que es la sumatoria de los 2 pesos que declaramos en la linea de codigo."
      ],
      "metadata": {
        "id": "hCVHjlm34Wcg"
      }
    },
    {
      "cell_type": "code",
      "source": [
        "class McCullochPitts:\n",
        "\n",
        "    def __init__(self, weights, umbral):\n",
        "        self.weights = weights\n",
        "        self.umbral = umbral\n",
        "\n",
        "    def predict(self, X):\n",
        "        predictions = []\n",
        "        for i in range(X.shape[0]):\n",
        "            weighted_sum = np.dot(self.weights, X[i].flatten())\n",
        "            print(f\"Input: {X[i][0]}, Weighted Sum: {weighted_sum}\")\n",
        "            if weighted_sum >= self.umbral:\n",
        "                predictions.append(1)\n",
        "            else:\n",
        "                predictions.append(0)\n",
        "        return predictions\n",
        ""
      ],
      "metadata": {
        "id": "ftg2tb054a6z"
      },
      "execution_count": 2,
      "outputs": []
    },
    {
      "cell_type": "markdown",
      "source": [
        "Construimos la neurona McCullochPitts, despues pedimos que nos guarden las variables, seguido despues colocamos un weights que es el vector de pesos iniciales y el umbral debe ser negativo o cero para que se active solo con la entrada 0, en la linea de codigo tenemos predict(self,X) esta linea de codigo nos sirve para que calcule la salida de la neurona para cada fila. Despues calculamos la salida de la neurona para cada fila, despues en la linea de codigo (predictions) es la lista en donde se guardaran las salidas, en la linea de codigo donbde tenemos el (range) esta liena de codigo sirve para recorrer cada fila de las entradas.\n",
        "\n",
        "Calcularemos la suma w1x1 + w2x2, despues de calcular la suma se mostrara en consola la entrada y la suma, depsues mostrara la comparacion con el umbral y asi se determinara si la neurona se activa o no"
      ],
      "metadata": {
        "id": "PB8dLPT54evK"
      }
    },
    {
      "cell_type": "code",
      "source": [
        "mcp = McCullochPitts(W, umbral)\n",
        "\n",
        "predictions = mcp.predict(X)\n",
        "\n",
        "\n",
        "print(\"Predictions (NOT):\", predictions)"
      ],
      "metadata": {
        "colab": {
          "base_uri": "https://localhost:8080/"
        },
        "id": "GU6xCt7N4hcF",
        "outputId": "adfc3d79-3b59-4c01-a909-1fcc45222877"
      },
      "execution_count": 3,
      "outputs": [
        {
          "output_type": "stream",
          "name": "stdout",
          "text": [
            "Input: 0, Weighted Sum: 0\n",
            "Input: 1, Weighted Sum: -1\n",
            "Predictions (NOT): [1, 0]\n"
          ]
        }
      ]
    },
    {
      "cell_type": "markdown",
      "source": [
        "En estas ultimas lineas de codigo primero instanciamos la clase MCP, despues calcula las predicciones necesarias y para concluir nos mostrara el resultado final."
      ],
      "metadata": {
        "id": "Ojq97wFE4nNs"
      }
    }
  ]
}